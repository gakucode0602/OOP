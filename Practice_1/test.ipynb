{
 "cells": [
  {
   "cell_type": "markdown",
   "metadata": {},
   "source": [
    "1. mkdir : Tạo một folder mới\n",
    "2. type con > null newFile.txt : tạo một file mới trong folder\n",
    "3. copy con file.txt : thêm nội dung vào file\n",
    "4. git init : tạo một khối lưu trữ trong folder\n",
    "5. git add [--all] thêm toàn bộ file , [file.txt] thêm file vào cây làm việc\n",
    "6. git commit -m \"Something\" : bắt đầu commit lên\n",
    "7. git checkout <branch_name> : chuyển sang branch branch_name nào đó\n",
    "8. git remote add origin <link_to_the_repo> : remote lên github \n",
    "9. git push -u origin master : không chỉ đẩy thay đổi mà còn thiết lập branch `main` trên máy local để tracking `main` trên remote \n",
    "10. git push origin master : đẩy các thay đổi từ main trên local lên branch `main` mà không cần thiết lập tracking giữa hai branch\n",
    "11. git log : xem lịch sử git\n",
    "12. git checkout <code_to_the_log> : quay trở về lệnh tại thời điểm đó\n",
    "13. git checkout -b new-branch : tạo một branch mới\n",
    "14. git branch : xem tất cả các branch\n",
    "15. git pull origin <branch_name>: kéo về máy local của bạn\n",
    "16. git merge <another_branch> : hợp file từ branch mà đưa pull request tới (quay trở lại lệnh 10 để đưa file từ branch này sang branch của bạn)\n",
    "Nếu có 1 file thay đổi\n",
    "17. git status : xem tình trạng file -> quay lại lệnh 5 để thêm tệp đã thay đổi để push lên -> quay lại lệnh 6 -> lệnh 10 để đưa lên (đảm bảo phải hoạt động đúng branch)"
   ]
  }
 ],
 "metadata": {
  "language_info": {
   "name": "python"
  }
 },
 "nbformat": 4,
 "nbformat_minor": 2
}
